{
 "cells": [
  {
   "cell_type": "code",
   "execution_count": 1,
   "id": "623c8c32-5c57-4ffe-849c-9edffabb14d0",
   "metadata": {},
   "outputs": [],
   "source": [
    "import pandas as pd\n",
    "import matplotlib.pyplot as plt\n",
    "import numpy as num\n",
    "\n",
    "# Ignore all warnings\n",
    "import warnings\n",
    "warnings.filterwarnings(\"ignore\")"
   ]
  },
  {
   "cell_type": "code",
   "execution_count": 3,
   "id": "07e84309-71a9-43a2-b83a-b1ee45ba7e0c",
   "metadata": {},
   "outputs": [
    {
     "data": {
      "text/html": [
       "<div>\n",
       "<style scoped>\n",
       "    .dataframe tbody tr th:only-of-type {\n",
       "        vertical-align: middle;\n",
       "    }\n",
       "\n",
       "    .dataframe tbody tr th {\n",
       "        vertical-align: top;\n",
       "    }\n",
       "\n",
       "    .dataframe thead th {\n",
       "        text-align: right;\n",
       "    }\n",
       "</style>\n",
       "<table border=\"1\" class=\"dataframe\">\n",
       "  <thead>\n",
       "    <tr style=\"text-align: right;\">\n",
       "      <th></th>\n",
       "      <th>m49_code</th>\n",
       "      <th>country</th>\n",
       "      <th>commodity</th>\n",
       "      <th>year</th>\n",
       "      <th>loss_percentage</th>\n",
       "      <th>food_supply_stage</th>\n",
       "    </tr>\n",
       "  </thead>\n",
       "  <tbody>\n",
       "    <tr>\n",
       "      <th>0</th>\n",
       "      <td>104</td>\n",
       "      <td>Myanmar</td>\n",
       "      <td>Rice, milled</td>\n",
       "      <td>2015</td>\n",
       "      <td>1.78</td>\n",
       "      <td>Storage</td>\n",
       "    </tr>\n",
       "    <tr>\n",
       "      <th>1</th>\n",
       "      <td>104</td>\n",
       "      <td>Myanmar</td>\n",
       "      <td>Rice, milled</td>\n",
       "      <td>2015</td>\n",
       "      <td>11.77</td>\n",
       "      <td>Storage</td>\n",
       "    </tr>\n",
       "    <tr>\n",
       "      <th>2</th>\n",
       "      <td>104</td>\n",
       "      <td>Myanmar</td>\n",
       "      <td>Rice, milled</td>\n",
       "      <td>2015</td>\n",
       "      <td>5.88</td>\n",
       "      <td>Storage</td>\n",
       "    </tr>\n",
       "    <tr>\n",
       "      <th>3</th>\n",
       "      <td>104</td>\n",
       "      <td>Myanmar</td>\n",
       "      <td>Rice, milled</td>\n",
       "      <td>2015</td>\n",
       "      <td>3.57</td>\n",
       "      <td>Storage</td>\n",
       "    </tr>\n",
       "    <tr>\n",
       "      <th>4</th>\n",
       "      <td>104</td>\n",
       "      <td>Myanmar</td>\n",
       "      <td>Rice, milled</td>\n",
       "      <td>2015</td>\n",
       "      <td>17.65</td>\n",
       "      <td>Storage</td>\n",
       "    </tr>\n",
       "  </tbody>\n",
       "</table>\n",
       "</div>"
      ],
      "text/plain": [
       "   m49_code  country     commodity  year  loss_percentage food_supply_stage\n",
       "0       104  Myanmar  Rice, milled  2015             1.78           Storage\n",
       "1       104  Myanmar  Rice, milled  2015            11.77           Storage\n",
       "2       104  Myanmar  Rice, milled  2015             5.88           Storage\n",
       "3       104  Myanmar  Rice, milled  2015             3.57           Storage\n",
       "4       104  Myanmar  Rice, milled  2015            17.65           Storage"
      ]
     },
     "execution_count": 3,
     "metadata": {},
     "output_type": "execute_result"
    }
   ],
   "source": [
    "# Read FAO Food Loss csv files\n",
    "food_loss_data = \"../Resources/FAO_Food_Loss.csv\"\n",
    "food_loss = pd.read_csv(food_loss_data)\n",
    "food_loss = pd.DataFrame(food_loss)\n",
    "# Filter out the empty columns\n",
    "food_loss_df = food_loss[[\"m49_code\", \"country\", \"commodity\", \"year\", \"loss_percentage\", \"food_supply_stage\"]]\n",
    "food_loss_df.head()"
   ]
  },
  {
   "cell_type": "code",
   "execution_count": 5,
   "id": "0f386ab9-2704-49a9-ac34-ca0d86500837",
   "metadata": {},
   "outputs": [],
   "source": [
    "# Food groups (commodity)\n",
    "commodity = food_loss_df['commodity'].unique()\n",
    "\n",
    "# Create food groups by commodity\n",
    "food_group = {\n",
    "    'Fruits': ['Tomatoes', 'Cucumbers and gherkins', 'Bananas', 'Plantains and cooking bananas', 'Other fruits, n.e.c.',\n",
    "           'Papayas', 'Pineapples', 'Pears', 'Apples', 'Oranges', 'Mangoes, guavas and mangosteens',\n",
    "           'Cantaloupes and other melons', 'Avocados', 'Pomelos and grapefruits', 'Lemons and limes',\n",
    "           'Tangerines, mandarins, clementines', 'Grapes', 'Other tropical and subtropical fruits, n.e.c.',\n",
    "           'Strawberries', 'Wine', 'Other citrus fruit, n.e.c.', 'Coconuts, in shell', 'Raspberries', 'Olives',\n",
    "           'Juice of citrus fruit n.e.c.', 'Juice of lemon', 'Raisins', 'Blueberries', 'Kiwi fruit', \n",
    "           'Grape juice', 'Apple juice', 'Cranberries', 'Plums, dried', 'Other stone fruits','Persimmons',\n",
    "           'Orange juice', 'Pineapple juice', 'Juice of lemon', 'Watermelons', 'Dates', 'Figs', 'Cherries',\n",
    "           'Plums and sloes', 'Apricots','Areca nuts', 'Peaches and nectarines', 'Other pome fruits', 'Grapefruit juice',\n",
    "           'Hazelnuts, in shell', 'Walnuts, in shell', 'Cashew nuts, in shell',  'Almonds, in shell', 'Pistachios, in shell'],\n",
    "    'Vegetables': ['Cauliflowers and broccoli', 'Potatoes', 'Cabbages' 'Eggplants (aubergines)', 'Pumpkins, squash and gourds',\n",
    "               'Okra', 'Carrots and turnips', 'Green garlic', 'Leeks and other alliaceous vegetables',\n",
    "               'Onions and shallots, green', 'Spinach', 'Yams', 'Other vegetables, fresh n.e.c.', 'Cassava, fresh',\n",
    "               'Lettuce and chicory', 'Chillies and peppers, dry (<i>Capsicum</i> spp., <i>Pimenta</i> spp.), raw',\n",
    "               'Pepper (<i>Piper</i> spp.), raw', 'Cassava, dry', 'Sweet potatoes', 'Artichokes', 'Asparagus',\n",
    "               'Edible roots and tubers with high starch or inulin content, n.e.c., fresh', 'Flour of cassava', 'Tapioca of cassava',\n",
    "               'Vegetable products, fresh or dry n.e.c.', 'Sweet corn, frozen', 'Canned mushrooms',\n",
    "               'Chillies and peppers, green (<i>Capsicum</i> spp. and <i>Pimenta</i> spp.)', 'Mushrooms and truffles',\n",
    "               'Sweet corn, prepared or preserved', 'Sugar beet', 'Swedes, for forage',\n",
    "               'Edible roots and tubers with high starch or inulin content, n.e.c., dry',\n",
    "               'Other stimulant, spice and aromatic crops, n.e.c.'],\n",
    "    'Dairy': ['Raw milk of cattle', 'Hen eggs in shell, fresh', 'Dairy products n.e.c.', 'Cheese from whole cow milk', 'Eggs, dried'],\n",
    "    'Protein': ['Meat of cattle with the bone, fresh or chilled', 'Cattle', 'Eggs, dried','Meat of chickens, fresh or chilled',\n",
    "            'Snails, fresh, chilled, frozen, dried, salted or in brine, except sea snails', 'Meat of goat, fresh or chilled', 'Camels',\n",
    "            'Meat of goat, fresh or chilled (indigenous)', 'Sheep', 'Goats', 'Meat of pig with the bone, fresh or chilled',\n",
    "            'Meat of sheep, fresh or chilled','Pig meat, cuts, salted, dried or smoked (bacon and ham)'],\n",
    "    'Grains': ['Rice, milled', 'Rice', 'Wheat', 'Maize (corn)', 'Sorghum', 'Millet', 'Mixed grain', 'Fonio','Quinoa', 'Oats',\n",
    "           'Broad beans and horse beans, green', 'Flour of triticale', 'Rye', 'Mustard seed', 'Safflower seed',\n",
    "           'Uncooked pasta, not stuffed or otherwise prepared', 'Green corn (maize)', 'Sugar cane','Rape or colza seed',\n",
    "           'Cottonseed', 'Sunflower seed', 'Soya bean oil', 'Sunflower-seed oil, crude','Sesame seed','Flour of buckwheat',\n",
    "           'Anise, badian, coriander, cumin, caraway, fennel and juniper berries, raw','Cocoa beans', 'Sugar and syrups n.e.c.'],\n",
    "    'Legumes': ['Beans, dry', 'Other beans, green', 'Peas, green', 'Peas, dry', 'Barley', 'Cow peas, dry', 'Groundnuts, shelled',\n",
    "            'Broad beans and horse beans, dry' 'Lentils, dry', 'Soya beans', 'Groundnuts, excluding shelled', 'Other pulses n.e.c.',\n",
    "           'Chick peas, dry', 'Other legumes, for forage', 'Bambara beans, dry', 'Pigeon peas, dry']}"
   ]
  },
  {
   "cell_type": "code",
   "execution_count": 7,
   "id": "fa2838f0-1bfb-4585-bdee-e2dfcff50cbc",
   "metadata": {},
   "outputs": [
    {
     "name": "stdout",
     "output_type": "stream",
     "text": [
      "food_group\n",
      "Grains        20685\n",
      "Fruits         3085\n",
      "Vegetables     2129\n",
      "Legumes        1216\n",
      "Dairy           147\n",
      "Protein          75\n",
      "Name: count, dtype: int64\n"
     ]
    }
   ],
   "source": [
    "# Add food_group into data frame\n",
    "food_loss_df['food_group'] = food_loss_df['commodity'].map({commodity: group for group, commodities in food_group.items() for commodity in commodities})\n",
    "\n",
    "# Count food group total\n",
    "food_group_count = food_loss_df['food_group'].value_counts()\n",
    "print(food_group_count)"
   ]
  },
  {
   "cell_type": "code",
   "execution_count": 9,
   "id": "f40c7d96-678d-4181-9a13-c1c630dc75cd",
   "metadata": {},
   "outputs": [
    {
     "name": "stdout",
     "output_type": "stream",
     "text": [
      "country\n",
      "United States of America    3094\n",
      "India                       1354\n",
      "Ethiopia                    1064\n",
      "Kenya                       1054\n",
      "Uganda                       866\n",
      "                            ... \n",
      "Bahrain                        1\n",
      "Oman                           1\n",
      "Saint Kitts and Nevis          1\n",
      "Germany                        1\n",
      "Gabon                          1\n",
      "Name: count, Length: 127, dtype: int64\n"
     ]
    }
   ],
   "source": [
    "# Count how many rows of data each country accounts for; how many each continent accounts for\n",
    "country_group_count = food_loss_df['country'].value_counts()\n",
    "print(country_group_count)"
   ]
  },
  {
   "cell_type": "code",
   "execution_count": 15,
   "id": "c1f25f9d-7a76-4347-8e76-a21d6df42fd3",
   "metadata": {},
   "outputs": [
    {
     "data": {
      "text/plain": [
       "<Figure size 1200x800 with 0 Axes>"
      ]
     },
     "metadata": {},
     "output_type": "display_data"
    },
    {
     "data": {
      "image/png": "[encoded data removed]",
      "text/plain": [
       "<Figure size 640x480 with 1 Axes>"
      ]
     },
     "metadata": {},
     "output_type": "display_data"
    }
   ],
   "source": [
    "# Create stacked bar graph\n",
    "country_waste = food_loss_df.groupby('country')['loss_percentage'].mean()\n",
    "country_waste_sorted = country_waste.nlargest(10)\n",
    "country_waste_data = food_loss_df[food_loss_df['country'].isin(country_waste_sorted.index)]\n",
    "\n",
    "custom_colors = ['#22162B', '#E9D758', '#C05746', '#FFBC42', '#CDA2AB', '#8A89C0', '#4F1271', '#54C6EB', '#06D6A0', '#048A81']\n",
    "\n",
    "plt.figure(figsize=(12, 8))\n",
    "country_waste_data.pivot_table(index='food_group', columns='country', values='loss_percentage').plot(kind='bar', color=custom_colors, stacked=True)\n",
    "plt.title('Top 10 Countries Food Waste')\n",
    "plt.xlabel('Food Group')\n",
    "plt.ylabel('Total Loss Percentage')\n",
    "plt.xticks(rotation=45)\n",
    "plt.legend(title='Country', fontsize='small', loc='upper right', labels=country_waste_sorted.index)\n",
    "plt.tight_layout()\n",
    "\n",
    "# Match background to slides\n",
    "plt.gca().set_facecolor('#F8F1E9')  # For plot area\n",
    "plt.gcf().set_facecolor('#F8F1E9')  # For background of fig\n",
    "plt.savefig('viz/country_waste.png')"
   ]
  },
  {
   "cell_type": "code",
   "execution_count": null,
   "id": "24bef0c4-e71f-4329-b5d8-37cffc47f161",
   "metadata": {},
   "outputs": [],
   "source": [
    "# Pie Chart\n",
    "custom_colors = ['#06D6A0', '#048A81', '#54C6EB', '#CDA2AB', '#8A89C0', '#F1D87E']\n",
    "explode = (0, 0.1, 0, 0, 0, 0)\n",
    "\n",
    "pie_chart = food_loss_df.groupby('food_group')['loss_percentage'].mean()\n",
    "\n",
    "pie_chart.plot(kind='pie', autopct='%1.1f%%', startangle=90, explode=explode, colors=custom_colors)\n",
    "plt.title('Food Wastage by Food Group')\n",
    "plt.gca().set_facecolor('#F8F1E9')  # Set the background color of the plot area\n",
    "plt.gcf().set_facecolor('#F8F1E9')  # Set the background color of the figure\n",
    "plt.axis('equal')  # Equal aspect ratio ensures that the pie is drawn as a circle\n",
    "plt.savefig('viz/pie_food_group_waste_MEAN.png')"
   ]
  },
  {
   "cell_type": "code",
   "execution_count": null,
   "id": "24fa59e2-afb1-4e60-a786-98c6d1aa53fa",
   "metadata": {},
   "outputs": [],
   "source": [
    "# Pie Chart\n",
    "custom_colors = ['#06D6A0', '#048A81', '#54C6EB', '#CDA2AB', '#8A89C0', '#F1D87E']\n",
    "explode = (0, 0.1, 0, 0, 0, 0)\n",
    "\n",
    "pie_chart = food_loss_df.groupby('food_group')['loss_percentage'].sum()\n",
    "\n",
    "pie_chart.plot(kind='pie', autopct='%1.1f%%', startangle=90, explode=explode, colors=custom_colors)\n",
    "plt.title('Food Wastage by Food Group')\n",
    "plt.gca().set_facecolor('#F8F1E9')  # Set the background color of the plot area\n",
    "plt.gcf().set_facecolor('#F8F1E9')  # Set the background color of the figure\n",
    "plt.axis('equal')  # Equal aspect ratio ensures that the pie is drawn as a circle\n",
    "plt.savefig('viz/pie_food_group_waste_SUM.png')"
   ]
  }
 ],
 "metadata": {
  "kernelspec": {
   "display_name": "Python 3 (ipykernel)",
   "language": "python",
   "name": "python3"
  },
  "language_info": {
   "codemirror_mode": {
    "name": "ipython",
    "version": 3
   },
   "file_extension": ".py",
   "mimetype": "text/x-python",
   "name": "python",
   "nbconvert_exporter": "python",
   "pygments_lexer": "ipython3",
   "version": "3.11.7"
  }
 },
 "nbformat": 4,
 "nbformat_minor": 5
}
